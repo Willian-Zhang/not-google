{
 "cells": [
  {
   "cell_type": "code",
   "execution_count": 34,
   "metadata": {
    "collapsed": true
   },
   "outputs": [],
   "source": [
    "BM_N_doc = 8521860\n",
    "BM_N_term = 4151693235\n",
    "BM_Doc_AVG_Len = BM_N_term/BM_N_doc\n",
    "BM_K1 = 1.2\n",
    "BM_b  = 0.75\n",
    "BM_K2 = BM_K1 * (1 - BM_b)\n",
    "BM_K3 = BM_K1 * BM_b / BM_Doc_AVG_Len\n",
    "def partial_BM25(TF: int, doc_length: int) -> int:\n",
    "    return int(TF/(TF + BM_K2 + BM_K3 * doc_length) * 16384)"
   ]
  },
  {
   "cell_type": "code",
   "execution_count": 38,
   "metadata": {
    "collapsed": false
   },
   "outputs": [
    {
     "name": "stdout",
     "output_type": "stream",
     "text": [
      "TF 1\n",
      "doc_length 200 bm25 9813\n",
      "doc_length 205 bm25 9759\n",
      "doc_length 210 bm25 9706\n",
      "doc_length 215 bm25 9653\n",
      "doc_length 220 bm25 9601\n",
      "doc_length 225 bm25 9549\n",
      "doc_length 230 bm25 9498\n",
      "doc_length 235 bm25 9447\n",
      "doc_length 240 bm25 9397\n",
      "doc_length 245 bm25 9348\n",
      "doc_length 250 bm25 9299\n",
      "doc_length 255 bm25 9250\n",
      "doc_length 260 bm25 9202\n",
      "doc_length 265 bm25 9155\n",
      "doc_length 270 bm25 9108\n",
      "doc_length 275 bm25 9061\n",
      "doc_length 280 bm25 9015\n",
      "doc_length 285 bm25 8970\n",
      "doc_length 290 bm25 8925\n",
      "doc_length 295 bm25 8880\n",
      "doc_length 300 bm25 8836\n",
      "doc_length 305 bm25 8792\n",
      "doc_length 310 bm25 8748\n",
      "doc_length 315 bm25 8706\n",
      "doc_length 320 bm25 8663\n",
      "doc_length 325 bm25 8621\n",
      "doc_length 330 bm25 8579\n",
      "doc_length 335 bm25 8538\n",
      "doc_length 340 bm25 8497\n",
      "doc_length 345 bm25 8456\n",
      "doc_length 350 bm25 8416\n",
      "doc_length 355 bm25 8377\n",
      "doc_length 360 bm25 8337\n",
      "doc_length 365 bm25 8298\n",
      "doc_length 370 bm25 8260\n",
      "doc_length 375 bm25 8221\n",
      "doc_length 380 bm25 8183\n",
      "doc_length 385 bm25 8146\n",
      "doc_length 390 bm25 8109\n",
      "doc_length 395 bm25 8072\n",
      "TF 2\n",
      "doc_length 200 bm25 12275\n",
      "doc_length 205 bm25 12232\n",
      "doc_length 210 bm25 12190\n",
      "doc_length 215 bm25 12148\n",
      "doc_length 220 bm25 12107\n",
      "doc_length 225 bm25 12066\n",
      "doc_length 230 bm25 12025\n",
      "doc_length 235 bm25 11984\n",
      "doc_length 240 bm25 11944\n",
      "doc_length 245 bm25 11904\n",
      "doc_length 250 bm25 11864\n",
      "doc_length 255 bm25 11825\n",
      "doc_length 260 bm25 11785\n",
      "doc_length 265 bm25 11746\n",
      "doc_length 270 bm25 11707\n",
      "doc_length 275 bm25 11669\n",
      "doc_length 280 bm25 11631\n",
      "doc_length 285 bm25 11593\n",
      "doc_length 290 bm25 11555\n",
      "doc_length 295 bm25 11517\n",
      "doc_length 300 bm25 11480\n",
      "doc_length 305 bm25 11443\n",
      "doc_length 310 bm25 11406\n",
      "doc_length 315 bm25 11370\n",
      "doc_length 320 bm25 11333\n",
      "doc_length 325 bm25 11297\n",
      "doc_length 330 bm25 11261\n",
      "doc_length 335 bm25 11226\n",
      "doc_length 340 bm25 11190\n",
      "doc_length 345 bm25 11155\n",
      "doc_length 350 bm25 11120\n",
      "doc_length 355 bm25 11085\n",
      "doc_length 360 bm25 11051\n",
      "doc_length 365 bm25 11017\n",
      "doc_length 370 bm25 10982\n",
      "doc_length 375 bm25 10949\n",
      "doc_length 380 bm25 10915\n",
      "doc_length 385 bm25 10881\n",
      "doc_length 390 bm25 10848\n",
      "doc_length 395 bm25 10815\n",
      "TF 3\n",
      "doc_length 200 bm25 13394\n",
      "doc_length 205 bm25 13361\n",
      "doc_length 210 bm25 13327\n",
      "doc_length 215 bm25 13294\n",
      "doc_length 220 bm25 13261\n",
      "doc_length 225 bm25 13228\n",
      "doc_length 230 bm25 13195\n",
      "doc_length 235 bm25 13162\n",
      "doc_length 240 bm25 13130\n",
      "doc_length 245 bm25 13098\n",
      "doc_length 250 bm25 13065\n",
      "doc_length 255 bm25 13033\n",
      "doc_length 260 bm25 13002\n",
      "doc_length 265 bm25 12970\n",
      "doc_length 270 bm25 12938\n",
      "doc_length 275 bm25 12907\n",
      "doc_length 280 bm25 12876\n",
      "doc_length 285 bm25 12845\n",
      "doc_length 290 bm25 12814\n",
      "doc_length 295 bm25 12783\n",
      "doc_length 300 bm25 12752\n",
      "doc_length 305 bm25 12722\n",
      "doc_length 310 bm25 12691\n",
      "doc_length 315 bm25 12661\n",
      "doc_length 320 bm25 12631\n",
      "doc_length 325 bm25 12601\n",
      "doc_length 330 bm25 12572\n",
      "doc_length 335 bm25 12542\n",
      "doc_length 340 bm25 12512\n",
      "doc_length 345 bm25 12483\n",
      "doc_length 350 bm25 12454\n",
      "doc_length 355 bm25 12425\n",
      "doc_length 360 bm25 12396\n",
      "doc_length 365 bm25 12367\n",
      "doc_length 370 bm25 12338\n",
      "doc_length 375 bm25 12310\n",
      "doc_length 380 bm25 12281\n",
      "doc_length 385 bm25 12253\n",
      "doc_length 390 bm25 12225\n",
      "doc_length 395 bm25 12197\n",
      "TF 4\n",
      "doc_length 200 bm25 14034\n",
      "doc_length 205 bm25 14007\n",
      "doc_length 210 bm25 13979\n",
      "doc_length 215 bm25 13952\n",
      "doc_length 220 bm25 13924\n",
      "doc_length 225 bm25 13897\n",
      "doc_length 230 bm25 13870\n",
      "doc_length 235 bm25 13843\n",
      "doc_length 240 bm25 13816\n",
      "doc_length 245 bm25 13789\n",
      "doc_length 250 bm25 13762\n",
      "doc_length 255 bm25 13736\n",
      "doc_length 260 bm25 13709\n",
      "doc_length 265 bm25 13683\n",
      "doc_length 270 bm25 13656\n",
      "doc_length 275 bm25 13630\n",
      "doc_length 280 bm25 13604\n",
      "doc_length 285 bm25 13578\n",
      "doc_length 290 bm25 13552\n",
      "doc_length 295 bm25 13526\n",
      "doc_length 300 bm25 13500\n",
      "doc_length 305 bm25 13475\n",
      "doc_length 310 bm25 13449\n",
      "doc_length 315 bm25 13424\n",
      "doc_length 320 bm25 13398\n",
      "doc_length 325 bm25 13373\n",
      "doc_length 330 bm25 13348\n",
      "doc_length 335 bm25 13323\n",
      "doc_length 340 bm25 13298\n",
      "doc_length 345 bm25 13273\n",
      "doc_length 350 bm25 13248\n",
      "doc_length 355 bm25 13224\n",
      "doc_length 360 bm25 13199\n",
      "doc_length 365 bm25 13174\n",
      "doc_length 370 bm25 13150\n",
      "doc_length 375 bm25 13126\n",
      "doc_length 380 bm25 13101\n",
      "doc_length 385 bm25 13077\n",
      "doc_length 390 bm25 13053\n",
      "doc_length 395 bm25 13029\n"
     ]
    }
   ],
   "source": [
    "for TF in range(1,5,1):\n",
    "    print(\"TF\", TF)\n",
    "    for doc_length in range(200,400,5):\n",
    "        bm25 = partial_BM25(TF, doc_length)\n",
    "        print(\"doc_length\", doc_length, \"bm25\", bm25)\n",
    "        "
   ]
  },
  {
   "cell_type": "code",
   "execution_count": 10,
   "metadata": {
    "collapsed": true
   },
   "outputs": [],
   "source": [
    "from struct import pack, unpack\n",
    "\n",
    "def encode_number(number):\n",
    "    \"\"\"Variable byte code encode number.\n",
    "    Usage:\n",
    "      import vbcode\n",
    "      vbcode.encode_number(128)\n",
    "    \"\"\"\n",
    "    bytes_list = []\n",
    "    while True:\n",
    "        bytes_list.insert(0, number % 128)\n",
    "        if number < 128:\n",
    "            break\n",
    "        number = number // 128\n",
    "    bytes_list[-1] += 128\n",
    "    return pack('%dB' % len(bytes_list), *bytes_list)"
   ]
  },
  {
   "cell_type": "code",
   "execution_count": 27,
   "metadata": {
    "collapsed": false
   },
   "outputs": [
    {
     "data": {
      "text/plain": [
       "128"
      ]
     },
     "execution_count": 27,
     "metadata": {},
     "output_type": "execute_result"
    }
   ],
   "source": [
    "2**7"
   ]
  },
  {
   "cell_type": "code",
   "execution_count": 12,
   "metadata": {
    "collapsed": false
   },
   "outputs": [
    {
     "data": {
      "text/plain": [
       "b'\\xff'"
      ]
     },
     "execution_count": 12,
     "metadata": {},
     "output_type": "execute_result"
    }
   ],
   "source": [
    "encode_number(127)"
   ]
  },
  {
   "cell_type": "code",
   "execution_count": 13,
   "metadata": {
    "collapsed": false
   },
   "outputs": [
    {
     "data": {
      "text/plain": [
       "b'\\x01\\x80'"
      ]
     },
     "execution_count": 13,
     "metadata": {},
     "output_type": "execute_result"
    }
   ],
   "source": [
    "encode_number(128)"
   ]
  },
  {
   "cell_type": "code",
   "execution_count": 16,
   "metadata": {
    "collapsed": false
   },
   "outputs": [
    {
     "ename": "SyntaxError",
     "evalue": "invalid syntax (<ipython-input-16-d9c1b4c53935>, line 1)",
     "output_type": "error",
     "traceback": [
      "\u001b[0;36m  File \u001b[0;32m\"<ipython-input-16-d9c1b4c53935>\"\u001b[0;36m, line \u001b[0;32m1\u001b[0m\n\u001b[0;31m    encode_number(2^^8)\u001b[0m\n\u001b[0m                    ^\u001b[0m\n\u001b[0;31mSyntaxError\u001b[0m\u001b[0;31m:\u001b[0m invalid syntax\n"
     ]
    }
   ],
   "source": [
    "encode_number(2^^8)"
   ]
  },
  {
   "cell_type": "code",
   "execution_count": 28,
   "metadata": {
    "collapsed": false
   },
   "outputs": [
    {
     "data": {
      "text/plain": [
       "16384"
      ]
     },
     "execution_count": 28,
     "metadata": {},
     "output_type": "execute_result"
    }
   ],
   "source": [
    "2**(7+7)"
   ]
  },
  {
   "cell_type": "code",
   "execution_count": 29,
   "metadata": {
    "collapsed": false
   },
   "outputs": [
    {
     "data": {
      "text/plain": [
       "16383"
      ]
     },
     "execution_count": 29,
     "metadata": {},
     "output_type": "execute_result"
    }
   ],
   "source": [
    "2**(7+7)-1"
   ]
  },
  {
   "cell_type": "code",
   "execution_count": 24,
   "metadata": {
    "collapsed": false
   },
   "outputs": [
    {
     "data": {
      "text/plain": [
       "b'\\x7f\\xff'"
      ]
     },
     "execution_count": 24,
     "metadata": {},
     "output_type": "execute_result"
    }
   ],
   "source": [
    "encode_number(2**(7+7)-1)"
   ]
  },
  {
   "cell_type": "code",
   "execution_count": 25,
   "metadata": {
    "collapsed": false
   },
   "outputs": [
    {
     "data": {
      "text/plain": [
       "b'\\x01\\x00\\x80'"
      ]
     },
     "execution_count": 25,
     "metadata": {},
     "output_type": "execute_result"
    }
   ],
   "source": [
    "encode_number(2**(7+7))"
   ]
  },
  {
   "cell_type": "code",
   "execution_count": null,
   "metadata": {
    "collapsed": true
   },
   "outputs": [],
   "source": []
  }
 ],
 "metadata": {
  "kernelspec": {
   "display_name": "Python 3",
   "language": "python",
   "name": "python3"
  },
  "language_info": {
   "codemirror_mode": {
    "name": "ipython",
    "version": 3
   },
   "file_extension": ".py",
   "mimetype": "text/x-python",
   "name": "python",
   "nbconvert_exporter": "python",
   "pygments_lexer": "ipython3",
   "version": "3.6.0"
  }
 },
 "nbformat": 4,
 "nbformat_minor": 2
}
