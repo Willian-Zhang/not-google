{
 "cells": [
  {
   "cell_type": "code",
   "execution_count": 49,
   "metadata": {
    "collapsed": true
   },
   "outputs": [],
   "source": [
    "import heapq\n",
    "class FixSizeMaxHeap:\n",
    "    def __init__(self, size: int):\n",
    "        self.size = size\n",
    "        self.data = []\n",
    "        \n",
    "    def push(self, item):\n",
    "        if len(self.data) >= self.size:\n",
    "            if item > self.data[0]:\n",
    "                heapq.heappop(self.data)\n",
    "                heapq.heappush(self.data,item)\n",
    "        else:\n",
    "            heapq.heappush(self.data,item)\n",
    "        \n",
    "    def pop(self):\n",
    "        return heapq.heappop(self.data)\n",
    "\n",
    "    def nlargest(self, n: int):\n",
    "        return heapq.nlargest(n, self.data)\n",
    "\n",
    "class FixSizeCountedMaxHeap(FixSizeMaxHeap):\n",
    "    def __init__(self, size: int):\n",
    "        super().__init__(size)\n",
    "        self.length_original = 0\n",
    "\n",
    "    def push(self, item):\n",
    "        super().push(item)\n",
    "        self.length_original += 1\n",
    "\n",
    "    def pop(self):\n",
    "        super().length_original -= 1\n",
    "        return super.pop()\n",
    "        \n",
    "\n"
   ]
  },
  {
   "cell_type": "code",
   "execution_count": 50,
   "metadata": {
    "collapsed": false
   },
   "outputs": [],
   "source": [
    "heap = FixSizeCountedMaxHeap(10)"
   ]
  },
  {
   "cell_type": "code",
   "execution_count": 51,
   "metadata": {
    "collapsed": true
   },
   "outputs": [],
   "source": [
    "import random\n",
    "def new_item():\n",
    "    i = random.randint(1, 100)\n",
    "    return ((i,2),f\"{i}\")"
   ]
  },
  {
   "cell_type": "code",
   "execution_count": 52,
   "metadata": {
    "collapsed": false
   },
   "outputs": [],
   "source": [
    "for _ in range(100):\n",
    "    heap.push(new_item())"
   ]
  },
  {
   "cell_type": "code",
   "execution_count": 53,
   "metadata": {
    "collapsed": false
   },
   "outputs": [
    {
     "data": {
      "text/plain": [
       "[((100, 2), '100'),\n",
       " ((99, 2), '99'),\n",
       " ((98, 2), '98'),\n",
       " ((96, 2), '96'),\n",
       " ((96, 2), '96'),\n",
       " ((94, 2), '94'),\n",
       " ((94, 2), '94'),\n",
       " ((90, 2), '90'),\n",
       " ((90, 2), '90'),\n",
       " ((89, 2), '89')]"
      ]
     },
     "execution_count": 53,
     "metadata": {},
     "output_type": "execute_result"
    }
   ],
   "source": [
    "heap.nlargest(20)"
   ]
  },
  {
   "cell_type": "code",
   "execution_count": 54,
   "metadata": {
    "collapsed": false
   },
   "outputs": [
    {
     "data": {
      "text/plain": [
       "[((89, 2), '89'),\n",
       " ((90, 2), '90'),\n",
       " ((94, 2), '94'),\n",
       " ((90, 2), '90'),\n",
       " ((98, 2), '98'),\n",
       " ((94, 2), '94'),\n",
       " ((100, 2), '100'),\n",
       " ((96, 2), '96'),\n",
       " ((96, 2), '96'),\n",
       " ((99, 2), '99')]"
      ]
     },
     "execution_count": 54,
     "metadata": {},
     "output_type": "execute_result"
    }
   ],
   "source": [
    "heap.data"
   ]
  },
  {
   "cell_type": "code",
   "execution_count": 55,
   "metadata": {
    "collapsed": false
   },
   "outputs": [
    {
     "data": {
      "text/plain": [
       "100"
      ]
     },
     "execution_count": 55,
     "metadata": {},
     "output_type": "execute_result"
    }
   ],
   "source": [
    "heap.length_original"
   ]
  },
  {
   "cell_type": "code",
   "execution_count": null,
   "metadata": {
    "collapsed": true
   },
   "outputs": [],
   "source": []
  }
 ],
 "metadata": {
  "kernelspec": {
   "display_name": "Python 3",
   "language": "python",
   "name": "python3"
  },
  "language_info": {
   "codemirror_mode": {
    "name": "ipython",
    "version": 3
   },
   "file_extension": ".py",
   "mimetype": "text/x-python",
   "name": "python",
   "nbconvert_exporter": "python",
   "pygments_lexer": "ipython3",
   "version": "3.6.0"
  }
 },
 "nbformat": 4,
 "nbformat_minor": 2
}
