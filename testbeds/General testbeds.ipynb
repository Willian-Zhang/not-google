{
 "cells": [
  {
   "cell_type": "markdown",
   "metadata": {},
   "source": [
    "# Counter"
   ]
  },
  {
   "cell_type": "code",
   "execution_count": 1,
   "metadata": {
    "collapsed": true
   },
   "outputs": [],
   "source": [
    "from collections import Counter"
   ]
  },
  {
   "cell_type": "code",
   "execution_count": 2,
   "metadata": {
    "collapsed": true
   },
   "outputs": [],
   "source": [
    "arr = [\"a\", \"a\",\"b\"]"
   ]
  },
  {
   "cell_type": "code",
   "execution_count": 3,
   "metadata": {
    "collapsed": false
   },
   "outputs": [
    {
     "data": {
      "text/plain": [
       "Counter({'a': 2, 'b': 1})"
      ]
     },
     "execution_count": 3,
     "metadata": {},
     "output_type": "execute_result"
    }
   ],
   "source": [
    "Counter(arr)"
   ]
  },
  {
   "cell_type": "code",
   "execution_count": 8,
   "metadata": {
    "collapsed": false
   },
   "outputs": [
    {
     "data": {
      "text/plain": [
       "[('a', 2), ('b', 1)]"
      ]
     },
     "execution_count": 8,
     "metadata": {},
     "output_type": "execute_result"
    }
   ],
   "source": [
    "[(k, v) for (k,v) in Counter(arr).items()]"
   ]
  },
  {
   "cell_type": "markdown",
   "metadata": {},
   "source": [
    "# Binary"
   ]
  },
  {
   "cell_type": "code",
   "execution_count": 52,
   "metadata": {
    "collapsed": false
   },
   "outputs": [
    {
     "data": {
      "text/plain": [
       "b'\\x9d\\x8b+r'"
      ]
     },
     "execution_count": 52,
     "metadata": {},
     "output_type": "execute_result"
    }
   ],
   "source": [
    "b = (1915456413).to_bytes(4,'little', signed=True)\n",
    "b"
   ]
  },
  {
   "cell_type": "code",
   "execution_count": 33,
   "metadata": {
    "collapsed": false
   },
   "outputs": [
    {
     "data": {
      "text/plain": [
       "1915456413"
      ]
     },
     "execution_count": 33,
     "metadata": {},
     "output_type": "execute_result"
    }
   ],
   "source": [
    "int.from_bytes(b,'little', signed=True)"
   ]
  },
  {
   "cell_type": "code",
   "execution_count": 36,
   "metadata": {
    "collapsed": false
   },
   "outputs": [
    {
     "ename": "UnicodeDecodeError",
     "evalue": "'ascii' codec can't decode byte 0x9d in position 0: ordinal not in range(128)",
     "output_type": "error",
     "traceback": [
      "\u001b[0;31m---------------------------------------------------------------------------\u001b[0m",
      "\u001b[0;31mUnicodeDecodeError\u001b[0m                        Traceback (most recent call last)",
      "\u001b[0;32m<ipython-input-36-81db6158a514>\u001b[0m in \u001b[0;36m<module>\u001b[0;34m()\u001b[0m\n\u001b[0;32m----> 1\u001b[0;31m \u001b[0mb\u001b[0m\u001b[0;34m.\u001b[0m\u001b[0mdecode\u001b[0m\u001b[0;34m(\u001b[0m\u001b[0mencoding\u001b[0m\u001b[0;34m=\u001b[0m\u001b[0;34m\"ascii\"\u001b[0m\u001b[0;34m)\u001b[0m\u001b[0;34m\u001b[0m\u001b[0m\n\u001b[0m",
      "\u001b[0;31mUnicodeDecodeError\u001b[0m: 'ascii' codec can't decode byte 0x9d in position 0: ordinal not in range(128)"
     ]
    }
   ],
   "source": [
    "b.decode(encoding=\"ascii\")"
   ]
  },
  {
   "cell_type": "code",
   "execution_count": 43,
   "metadata": {
    "collapsed": false
   },
   "outputs": [],
   "source": [
    "n = b'\\n'"
   ]
  },
  {
   "cell_type": "code",
   "execution_count": 44,
   "metadata": {
    "collapsed": false
   },
   "outputs": [],
   "source": [
    "t = b'\\t'"
   ]
  },
  {
   "cell_type": "code",
   "execution_count": 46,
   "metadata": {
    "collapsed": false
   },
   "outputs": [
    {
     "data": {
      "text/plain": [
       "10"
      ]
     },
     "execution_count": 46,
     "metadata": {},
     "output_type": "execute_result"
    }
   ],
   "source": [
    "int.from_bytes(n,'little', signed=True)"
   ]
  },
  {
   "cell_type": "code",
   "execution_count": 48,
   "metadata": {
    "collapsed": false
   },
   "outputs": [
    {
     "data": {
      "text/plain": [
       "9"
      ]
     },
     "execution_count": 48,
     "metadata": {},
     "output_type": "execute_result"
    }
   ],
   "source": [
    "int.from_bytes(t,'little', signed=True)"
   ]
  },
  {
   "cell_type": "code",
   "execution_count": 62,
   "metadata": {
    "collapsed": false
   },
   "outputs": [
    {
     "name": "stdout",
     "output_type": "stream",
     "text": [
      "9 b'\\t\\x00\\x00\\x00'\n",
      "265 b'\\t\\x01\\x00\\x00'\n",
      "521 b'\\t\\x02\\x00\\x00'\n",
      "777 b'\\t\\x03\\x00\\x00'\n",
      "1033 b'\\t\\x04\\x00\\x00'\n",
      "1289 b'\\t\\x05\\x00\\x00'\n",
      "1545 b'\\t\\x06\\x00\\x00'\n",
      "1801 b'\\t\\x07\\x00\\x00'\n",
      "2057 b'\\t\\x08\\x00\\x00'\n",
      "2304 b'\\x00\\t\\x00\\x00'\n",
      "2305 b'\\x01\\t\\x00\\x00'\n",
      "2306 b'\\x02\\t\\x00\\x00'\n",
      "2307 b'\\x03\\t\\x00\\x00'\n",
      "2308 b'\\x04\\t\\x00\\x00'\n",
      "2309 b'\\x05\\t\\x00\\x00'\n",
      "2310 b'\\x06\\t\\x00\\x00'\n",
      "2311 b'\\x07\\t\\x00\\x00'\n",
      "2312 b'\\x08\\t\\x00\\x00'\n",
      "2313 b'\\t\\t\\x00\\x00'\n",
      "2314 b'\\n\\t\\x00\\x00'\n",
      "2315 b'\\x0b\\t\\x00\\x00'\n",
      "2316 b'\\x0c\\t\\x00\\x00'\n",
      "2317 b'\\r\\t\\x00\\x00'\n",
      "2318 b'\\x0e\\t\\x00\\x00'\n",
      "2319 b'\\x0f\\t\\x00\\x00'\n",
      "2320 b'\\x10\\t\\x00\\x00'\n",
      "2321 b'\\x11\\t\\x00\\x00'\n",
      "2322 b'\\x12\\t\\x00\\x00'\n",
      "2323 b'\\x13\\t\\x00\\x00'\n",
      "2324 b'\\x14\\t\\x00\\x00'\n",
      "2325 b'\\x15\\t\\x00\\x00'\n",
      "2326 b'\\x16\\t\\x00\\x00'\n",
      "2327 b'\\x17\\t\\x00\\x00'\n",
      "2328 b'\\x18\\t\\x00\\x00'\n",
      "2329 b'\\x19\\t\\x00\\x00'\n",
      "2330 b'\\x1a\\t\\x00\\x00'\n",
      "2331 b'\\x1b\\t\\x00\\x00'\n",
      "2332 b'\\x1c\\t\\x00\\x00'\n",
      "2333 b'\\x1d\\t\\x00\\x00'\n",
      "2334 b'\\x1e\\t\\x00\\x00'\n",
      "2335 b'\\x1f\\t\\x00\\x00'\n",
      "2336 b' \\t\\x00\\x00'\n",
      "2337 b'!\\t\\x00\\x00'\n",
      "2338 b'\"\\t\\x00\\x00'\n",
      "2339 b'#\\t\\x00\\x00'\n",
      "2340 b'$\\t\\x00\\x00'\n",
      "2341 b'%\\t\\x00\\x00'\n",
      "2342 b'&\\t\\x00\\x00'\n",
      "2343 b\"'\\t\\x00\\x00\"\n",
      "2344 b'(\\t\\x00\\x00'\n",
      "2345 b')\\t\\x00\\x00'\n",
      "2346 b'*\\t\\x00\\x00'\n",
      "2347 b'+\\t\\x00\\x00'\n",
      "2348 b',\\t\\x00\\x00'\n",
      "2349 b'-\\t\\x00\\x00'\n",
      "2350 b'.\\t\\x00\\x00'\n",
      "2351 b'/\\t\\x00\\x00'\n",
      "2352 b'0\\t\\x00\\x00'\n",
      "2353 b'1\\t\\x00\\x00'\n",
      "2354 b'2\\t\\x00\\x00'\n",
      "2355 b'3\\t\\x00\\x00'\n",
      "2356 b'4\\t\\x00\\x00'\n",
      "2357 b'5\\t\\x00\\x00'\n",
      "2358 b'6\\t\\x00\\x00'\n",
      "2359 b'7\\t\\x00\\x00'\n",
      "2360 b'8\\t\\x00\\x00'\n",
      "2361 b'9\\t\\x00\\x00'\n",
      "2362 b':\\t\\x00\\x00'\n",
      "2363 b';\\t\\x00\\x00'\n",
      "2364 b'<\\t\\x00\\x00'\n",
      "2365 b'=\\t\\x00\\x00'\n",
      "2366 b'>\\t\\x00\\x00'\n",
      "2367 b'?\\t\\x00\\x00'\n",
      "2368 b'@\\t\\x00\\x00'\n",
      "2369 b'A\\t\\x00\\x00'\n",
      "2370 b'B\\t\\x00\\x00'\n",
      "2371 b'C\\t\\x00\\x00'\n",
      "2372 b'D\\t\\x00\\x00'\n",
      "2373 b'E\\t\\x00\\x00'\n",
      "2374 b'F\\t\\x00\\x00'\n",
      "2375 b'G\\t\\x00\\x00'\n",
      "2376 b'H\\t\\x00\\x00'\n",
      "2377 b'I\\t\\x00\\x00'\n",
      "2378 b'J\\t\\x00\\x00'\n",
      "2379 b'K\\t\\x00\\x00'\n",
      "2380 b'L\\t\\x00\\x00'\n",
      "2381 b'M\\t\\x00\\x00'\n",
      "2382 b'N\\t\\x00\\x00'\n",
      "2383 b'O\\t\\x00\\x00'\n",
      "2384 b'P\\t\\x00\\x00'\n",
      "2385 b'Q\\t\\x00\\x00'\n",
      "2386 b'R\\t\\x00\\x00'\n",
      "2387 b'S\\t\\x00\\x00'\n",
      "2388 b'T\\t\\x00\\x00'\n",
      "2389 b'U\\t\\x00\\x00'\n",
      "2390 b'V\\t\\x00\\x00'\n",
      "2391 b'W\\t\\x00\\x00'\n",
      "2392 b'X\\t\\x00\\x00'\n",
      "2393 b'Y\\t\\x00\\x00'\n",
      "2394 b'Z\\t\\x00\\x00'\n",
      "2395 b'[\\t\\x00\\x00'\n",
      "2396 b'\\\\\\t\\x00\\x00'\n",
      "2397 b']\\t\\x00\\x00'\n",
      "2398 b'^\\t\\x00\\x00'\n",
      "2399 b'_\\t\\x00\\x00'\n",
      "2400 b'`\\t\\x00\\x00'\n",
      "2401 b'a\\t\\x00\\x00'\n",
      "2402 b'b\\t\\x00\\x00'\n",
      "2403 b'c\\t\\x00\\x00'\n",
      "2404 b'd\\t\\x00\\x00'\n",
      "2405 b'e\\t\\x00\\x00'\n",
      "2406 b'f\\t\\x00\\x00'\n",
      "2407 b'g\\t\\x00\\x00'\n",
      "2408 b'h\\t\\x00\\x00'\n",
      "2409 b'i\\t\\x00\\x00'\n",
      "2410 b'j\\t\\x00\\x00'\n",
      "2411 b'k\\t\\x00\\x00'\n",
      "2412 b'l\\t\\x00\\x00'\n",
      "2413 b'm\\t\\x00\\x00'\n",
      "2414 b'n\\t\\x00\\x00'\n",
      "2415 b'o\\t\\x00\\x00'\n",
      "2416 b'p\\t\\x00\\x00'\n",
      "2417 b'q\\t\\x00\\x00'\n",
      "2418 b'r\\t\\x00\\x00'\n",
      "2419 b's\\t\\x00\\x00'\n",
      "2420 b't\\t\\x00\\x00'\n",
      "2421 b'u\\t\\x00\\x00'\n",
      "2422 b'v\\t\\x00\\x00'\n",
      "2423 b'w\\t\\x00\\x00'\n",
      "2424 b'x\\t\\x00\\x00'\n",
      "2425 b'y\\t\\x00\\x00'\n",
      "2426 b'z\\t\\x00\\x00'\n",
      "2427 b'{\\t\\x00\\x00'\n",
      "2428 b'|\\t\\x00\\x00'\n",
      "2429 b'}\\t\\x00\\x00'\n",
      "2430 b'~\\t\\x00\\x00'\n",
      "2431 b'\\x7f\\t\\x00\\x00'\n",
      "2432 b'\\x80\\t\\x00\\x00'\n",
      "2433 b'\\x81\\t\\x00\\x00'\n",
      "2434 b'\\x82\\t\\x00\\x00'\n",
      "2435 b'\\x83\\t\\x00\\x00'\n",
      "2436 b'\\x84\\t\\x00\\x00'\n",
      "2437 b'\\x85\\t\\x00\\x00'\n",
      "2438 b'\\x86\\t\\x00\\x00'\n",
      "2439 b'\\x87\\t\\x00\\x00'\n",
      "2440 b'\\x88\\t\\x00\\x00'\n",
      "2441 b'\\x89\\t\\x00\\x00'\n",
      "2442 b'\\x8a\\t\\x00\\x00'\n",
      "2443 b'\\x8b\\t\\x00\\x00'\n",
      "2444 b'\\x8c\\t\\x00\\x00'\n",
      "2445 b'\\x8d\\t\\x00\\x00'\n",
      "2446 b'\\x8e\\t\\x00\\x00'\n",
      "2447 b'\\x8f\\t\\x00\\x00'\n",
      "2448 b'\\x90\\t\\x00\\x00'\n",
      "2449 b'\\x91\\t\\x00\\x00'\n",
      "2450 b'\\x92\\t\\x00\\x00'\n",
      "2451 b'\\x93\\t\\x00\\x00'\n",
      "2452 b'\\x94\\t\\x00\\x00'\n",
      "2453 b'\\x95\\t\\x00\\x00'\n",
      "2454 b'\\x96\\t\\x00\\x00'\n",
      "2455 b'\\x97\\t\\x00\\x00'\n",
      "2456 b'\\x98\\t\\x00\\x00'\n",
      "2457 b'\\x99\\t\\x00\\x00'\n",
      "2458 b'\\x9a\\t\\x00\\x00'\n",
      "2459 b'\\x9b\\t\\x00\\x00'\n",
      "2460 b'\\x9c\\t\\x00\\x00'\n",
      "2461 b'\\x9d\\t\\x00\\x00'\n",
      "2462 b'\\x9e\\t\\x00\\x00'\n",
      "2463 b'\\x9f\\t\\x00\\x00'\n",
      "2464 b'\\xa0\\t\\x00\\x00'\n",
      "2465 b'\\xa1\\t\\x00\\x00'\n",
      "2466 b'\\xa2\\t\\x00\\x00'\n",
      "2467 b'\\xa3\\t\\x00\\x00'\n",
      "2468 b'\\xa4\\t\\x00\\x00'\n",
      "2469 b'\\xa5\\t\\x00\\x00'\n",
      "2470 b'\\xa6\\t\\x00\\x00'\n",
      "2471 b'\\xa7\\t\\x00\\x00'\n",
      "2472 b'\\xa8\\t\\x00\\x00'\n",
      "2473 b'\\xa9\\t\\x00\\x00'\n",
      "2474 b'\\xaa\\t\\x00\\x00'\n",
      "2475 b'\\xab\\t\\x00\\x00'\n",
      "2476 b'\\xac\\t\\x00\\x00'\n",
      "2477 b'\\xad\\t\\x00\\x00'\n",
      "2478 b'\\xae\\t\\x00\\x00'\n",
      "2479 b'\\xaf\\t\\x00\\x00'\n",
      "2480 b'\\xb0\\t\\x00\\x00'\n",
      "2481 b'\\xb1\\t\\x00\\x00'\n",
      "2482 b'\\xb2\\t\\x00\\x00'\n",
      "2483 b'\\xb3\\t\\x00\\x00'\n",
      "2484 b'\\xb4\\t\\x00\\x00'\n",
      "2485 b'\\xb5\\t\\x00\\x00'\n",
      "2486 b'\\xb6\\t\\x00\\x00'\n",
      "2487 b'\\xb7\\t\\x00\\x00'\n",
      "2488 b'\\xb8\\t\\x00\\x00'\n",
      "2489 b'\\xb9\\t\\x00\\x00'\n",
      "2490 b'\\xba\\t\\x00\\x00'\n",
      "2491 b'\\xbb\\t\\x00\\x00'\n",
      "2492 b'\\xbc\\t\\x00\\x00'\n",
      "2493 b'\\xbd\\t\\x00\\x00'\n",
      "2494 b'\\xbe\\t\\x00\\x00'\n",
      "2495 b'\\xbf\\t\\x00\\x00'\n",
      "2496 b'\\xc0\\t\\x00\\x00'\n",
      "2497 b'\\xc1\\t\\x00\\x00'\n",
      "2498 b'\\xc2\\t\\x00\\x00'\n",
      "2499 b'\\xc3\\t\\x00\\x00'\n",
      "2500 b'\\xc4\\t\\x00\\x00'\n",
      "2501 b'\\xc5\\t\\x00\\x00'\n",
      "2502 b'\\xc6\\t\\x00\\x00'\n",
      "2503 b'\\xc7\\t\\x00\\x00'\n",
      "2504 b'\\xc8\\t\\x00\\x00'\n",
      "2505 b'\\xc9\\t\\x00\\x00'\n",
      "2506 b'\\xca\\t\\x00\\x00'\n",
      "2507 b'\\xcb\\t\\x00\\x00'\n",
      "2508 b'\\xcc\\t\\x00\\x00'\n",
      "2509 b'\\xcd\\t\\x00\\x00'\n",
      "2510 b'\\xce\\t\\x00\\x00'\n",
      "2511 b'\\xcf\\t\\x00\\x00'\n",
      "2512 b'\\xd0\\t\\x00\\x00'\n",
      "2513 b'\\xd1\\t\\x00\\x00'\n",
      "2514 b'\\xd2\\t\\x00\\x00'\n",
      "2515 b'\\xd3\\t\\x00\\x00'\n",
      "2516 b'\\xd4\\t\\x00\\x00'\n",
      "2517 b'\\xd5\\t\\x00\\x00'\n",
      "2518 b'\\xd6\\t\\x00\\x00'\n",
      "2519 b'\\xd7\\t\\x00\\x00'\n",
      "2520 b'\\xd8\\t\\x00\\x00'\n",
      "2521 b'\\xd9\\t\\x00\\x00'\n",
      "2522 b'\\xda\\t\\x00\\x00'\n",
      "2523 b'\\xdb\\t\\x00\\x00'\n",
      "2524 b'\\xdc\\t\\x00\\x00'\n",
      "2525 b'\\xdd\\t\\x00\\x00'\n",
      "2526 b'\\xde\\t\\x00\\x00'\n",
      "2527 b'\\xdf\\t\\x00\\x00'\n",
      "2528 b'\\xe0\\t\\x00\\x00'\n",
      "2529 b'\\xe1\\t\\x00\\x00'\n",
      "2530 b'\\xe2\\t\\x00\\x00'\n",
      "2531 b'\\xe3\\t\\x00\\x00'\n",
      "2532 b'\\xe4\\t\\x00\\x00'\n",
      "2533 b'\\xe5\\t\\x00\\x00'\n",
      "2534 b'\\xe6\\t\\x00\\x00'\n",
      "2535 b'\\xe7\\t\\x00\\x00'\n",
      "2536 b'\\xe8\\t\\x00\\x00'\n",
      "2537 b'\\xe9\\t\\x00\\x00'\n",
      "2538 b'\\xea\\t\\x00\\x00'\n",
      "2539 b'\\xeb\\t\\x00\\x00'\n",
      "2540 b'\\xec\\t\\x00\\x00'\n",
      "2541 b'\\xed\\t\\x00\\x00'\n",
      "2542 b'\\xee\\t\\x00\\x00'\n",
      "2543 b'\\xef\\t\\x00\\x00'\n",
      "2544 b'\\xf0\\t\\x00\\x00'\n",
      "2545 b'\\xf1\\t\\x00\\x00'\n",
      "2546 b'\\xf2\\t\\x00\\x00'\n",
      "2547 b'\\xf3\\t\\x00\\x00'\n",
      "2548 b'\\xf4\\t\\x00\\x00'\n",
      "2549 b'\\xf5\\t\\x00\\x00'\n",
      "2550 b'\\xf6\\t\\x00\\x00'\n",
      "2551 b'\\xf7\\t\\x00\\x00'\n",
      "2552 b'\\xf8\\t\\x00\\x00'\n",
      "2553 b'\\xf9\\t\\x00\\x00'\n",
      "2554 b'\\xfa\\t\\x00\\x00'\n",
      "2555 b'\\xfb\\t\\x00\\x00'\n",
      "2556 b'\\xfc\\t\\x00\\x00'\n",
      "2557 b'\\xfd\\t\\x00\\x00'\n",
      "2558 b'\\xfe\\t\\x00\\x00'\n",
      "2559 b'\\xff\\t\\x00\\x00'\n",
      "2569 b'\\t\\n\\x00\\x00'\n",
      "2825 b'\\t\\x0b\\x00\\x00'\n",
      "3081 b'\\t\\x0c\\x00\\x00'\n",
      "3337 b'\\t\\r\\x00\\x00'\n",
      "3593 b'\\t\\x0e\\x00\\x00'\n",
      "3849 b'\\t\\x0f\\x00\\x00'\n",
      "4105 b'\\t\\x10\\x00\\x00'\n",
      "4361 b'\\t\\x11\\x00\\x00'\n",
      "4617 b'\\t\\x12\\x00\\x00'\n",
      "4873 b'\\t\\x13\\x00\\x00'\n",
      "5129 b'\\t\\x14\\x00\\x00'\n",
      "5385 b'\\t\\x15\\x00\\x00'\n",
      "5641 b'\\t\\x16\\x00\\x00'\n",
      "5897 b'\\t\\x17\\x00\\x00'\n",
      "6153 b'\\t\\x18\\x00\\x00'\n",
      "6409 b'\\t\\x19\\x00\\x00'\n",
      "6665 b'\\t\\x1a\\x00\\x00'\n",
      "6921 b'\\t\\x1b\\x00\\x00'\n",
      "7177 b'\\t\\x1c\\x00\\x00'\n",
      "7433 b'\\t\\x1d\\x00\\x00'\n",
      "7689 b'\\t\\x1e\\x00\\x00'\n",
      "7945 b'\\t\\x1f\\x00\\x00'\n",
      "8201 b'\\t \\x00\\x00'\n",
      "8457 b'\\t!\\x00\\x00'\n",
      "8713 b'\\t\"\\x00\\x00'\n",
      "8969 b'\\t#\\x00\\x00'\n",
      "9225 b'\\t$\\x00\\x00'\n",
      "9481 b'\\t%\\x00\\x00'\n",
      "9737 b'\\t&\\x00\\x00'\n",
      "9993 b\"\\t'\\x00\\x00\"\n"
     ]
    }
   ],
   "source": [
    "for i in range(1,10000):\n",
    "    barr = i.to_bytes(4,'little', signed=True)\n",
    "    if len(barr.split(t)) > 1:\n",
    "        i & 9\n",
    "        print(i, barr)\n",
    "        "
   ]
  },
  {
   "cell_type": "code",
   "execution_count": 63,
   "metadata": {
    "collapsed": false
   },
   "outputs": [
    {
     "data": {
      "text/plain": [
       "[b'\\x9d\\x8b+r']"
      ]
     },
     "execution_count": 63,
     "metadata": {},
     "output_type": "execute_result"
    }
   ],
   "source": [
    "b.split(b'\\n')"
   ]
  },
  {
   "cell_type": "code",
   "execution_count": 133,
   "metadata": {
    "collapsed": false
   },
   "outputs": [
    {
     "name": "stdout",
     "output_type": "stream",
     "text": [
      "ori: 9 b'\\t\\x00\\x00\\x00' 256\n",
      "mov: 10 b'\\n\\x00\\x00\\x00'\n",
      "ori: 10 b'\\n\\x00\\x00\\x00' 256\n",
      "mov: 11 b'\\x0b\\x00\\x00\\x00'\n",
      "ori: 11 b'\\x0b\\x00\\x00\\x00' 256\n",
      "mov: 11 b'\\x0b\\x00\\x00\\x00'\n",
      "ori: 265 b'\\t\\x01\\x00\\x00' 256\n",
      "mov: 266 b'\\n\\x01\\x00\\x00'\n",
      "ori: 266 b'\\n\\x01\\x00\\x00' 256\n",
      "mov: 267 b'\\x0b\\x01\\x00\\x00'\n",
      "ori: 2313 b'\\t\\t\\x00\\x00' 256\n",
      "mov: 2570 b'\\n\\n\\x00\\x00'\n",
      "ori: 2559 b'\\xff\\t\\x00\\x00' 256\n",
      "mov: 2815 b'\\xff\\n\\x00\\x00'\n",
      "ori: 2560 b'\\x00\\n\\x00\\x00' 256\n",
      "mov: 2816 b'\\x00\\x0b\\x00\\x00'\n"
     ]
    }
   ],
   "source": [
    "byte_length = 4\n",
    "tbytes = b'\\t\\t\\t\\t'\n",
    "nbytes = b'\\n\\n\\n\\n'\n",
    "byte_orders = range(0,byte_length*8,8)\n",
    "for i in [9, 10 , 11,265, 266, 2313, 2559, 2560]:\n",
    "    ibytes = i.to_bytes(byte_length,'little', signed=True)\n",
    "    move = [1 if x^y == 0 or x^z == 0 else 0 for (x,y,z) in zip(ibytes,tbytes,nbytes) ]\n",
    "    move = sum([should_move<< move_power for (should_move, move_power) in zip(move, byte_orders)])\n",
    "    \n",
    "    print(\"ori:\", i, ibytes, result)\n",
    "    moved = i+ move\n",
    "    print(\"mov:\", moved , moved.to_bytes(byte_length,'little', signed=True))"
   ]
  },
  {
   "cell_type": "code",
   "execution_count": 101,
   "metadata": {
    "collapsed": false
   },
   "outputs": [
    {
     "data": {
      "text/plain": [
       "0"
      ]
     },
     "execution_count": 101,
     "metadata": {},
     "output_type": "execute_result"
    }
   ],
   "source": [
    "int.from_bytes(b'\\t\\t\\t\\t','little', signed=True) ^ int.from_bytes(b'\\t\\t\\t\\t','little', signed=True)"
   ]
  },
  {
   "cell_type": "code",
   "execution_count": 12,
   "metadata": {
    "collapsed": false
   },
   "outputs": [
    {
     "name": "stdout",
     "output_type": "stream",
     "text": [
      "ori: 9 b'\\t\\x00\\x00\\x00'\n",
      "mov: 10 b'\\n\\x00\\x00\\x00'\n",
      "ori: 10 b'\\n\\x00\\x00\\x00'\n",
      "mov: 11 b'\\x0b\\x00\\x00\\x00'\n",
      "ori: 265 b'\\t\\x01\\x00\\x00'\n",
      "mov: 266 b'\\n\\x01\\x00\\x00'\n",
      "ori: 266 b'\\n\\x01\\x00\\x00'\n",
      "mov: 267 b'\\x0b\\x01\\x00\\x00'\n",
      "ori: 521 b'\\t\\x02\\x00\\x00'\n",
      "mov: 522 b'\\n\\x02\\x00\\x00'\n",
      "ori: 522 b'\\n\\x02\\x00\\x00'\n",
      "mov: 523 b'\\x0b\\x02\\x00\\x00'\n",
      "ori: 777 b'\\t\\x03\\x00\\x00'\n",
      "mov: 778 b'\\n\\x03\\x00\\x00'\n",
      "ori: 778 b'\\n\\x03\\x00\\x00'\n",
      "mov: 779 b'\\x0b\\x03\\x00\\x00'\n"
     ]
    }
   ],
   "source": [
    "byte_length = 4\n",
    "tbytes = b'\\t\\t\\t\\t'\n",
    "nbytes = b'\\n\\n\\n\\n'\n",
    "byte_orders = range(0,byte_length*8,8)\n",
    "for i in range(1,1000):\n",
    "    ibytes = i.to_bytes(byte_length,'little', signed=True)\n",
    "    move = [1 if x^y == 0 or x^z == 0 else 0 for (x,y,z) in zip(ibytes,tbytes,nbytes) ]\n",
    "    move = sum([should_move<< move_power for (should_move, move_power) in zip(move, byte_orders)])\n",
    "    \n",
    "    if move>0:\n",
    "        print(\"ori:\", i, ibytes)\n",
    "        moved = i+ move\n",
    "        print(\"mov:\", moved , moved.to_bytes(byte_length,'little', signed=True))"
   ]
  },
  {
   "cell_type": "code",
   "execution_count": 142,
   "metadata": {
    "collapsed": false
   },
   "outputs": [
    {
     "data": {
      "text/plain": [
       "b'\\n\\n\\n\\n'"
      ]
     },
     "execution_count": 142,
     "metadata": {},
     "output_type": "execute_result"
    }
   ],
   "source": [
    "b'\\n'*4"
   ]
  },
  {
   "cell_type": "code",
   "execution_count": 2,
   "metadata": {
    "collapsed": false
   },
   "outputs": [
    {
     "data": {
      "text/plain": [
       "\"b'\\\\n\\\\n\\\\n\\\\n'\""
      ]
     },
     "execution_count": 2,
     "metadata": {},
     "output_type": "execute_result"
    }
   ],
   "source": [
    "\"{b}\".format(b=b'\\n'*4)"
   ]
  },
  {
   "cell_type": "code",
   "execution_count": 11,
   "metadata": {
    "collapsed": false
   },
   "outputs": [
    {
     "name": "stdout",
     "output_type": "stream",
     "text": [
      "ori: 9 b'\\t\\x00\\x00\\x00'\n",
      "mov: 10 b'\\n\\x00\\x00\\x00'\n",
      "ori: 10 b'\\n\\x00\\x00\\x00'\n",
      "mov: 11 b'\\x0b\\x00\\x00\\x00'\n",
      "ori: 265 b'\\t\\x01\\x00\\x00'\n",
      "mov: 266 b'\\n\\x01\\x00\\x00'\n",
      "ori: 266 b'\\n\\x01\\x00\\x00'\n",
      "mov: 267 b'\\x0b\\x01\\x00\\x00'\n",
      "ori: 521 b'\\t\\x02\\x00\\x00'\n",
      "mov: 522 b'\\n\\x02\\x00\\x00'\n",
      "ori: 522 b'\\n\\x02\\x00\\x00'\n",
      "mov: 523 b'\\x0b\\x02\\x00\\x00'\n",
      "ori: 777 b'\\t\\x03\\x00\\x00'\n",
      "mov: 778 b'\\n\\x03\\x00\\x00'\n",
      "ori: 778 b'\\n\\x03\\x00\\x00'\n",
      "mov: 779 b'\\x0b\\x03\\x00\\x00'\n"
     ]
    }
   ],
   "source": [
    "byte_length = 4\n",
    "tbyte = int.from_bytes(b'\\t','little',signed=True)\n",
    "nbyte = int.from_bytes(b'\\n','little',signed=True)\n",
    "byte_orders = range(0,byte_length*8,8)\n",
    "for i in range(1,1000):\n",
    "    ibytes = i.to_bytes(byte_length,'little', signed=True)\n",
    "    move = [1 if x^tbyte == 0 or x^nbyte == 0 else 0 for x in ibytes ]\n",
    "    move = sum([should_move<< move_power for (should_move, move_power) in zip(move, byte_orders)])\n",
    "    \n",
    "    if move>0:\n",
    "        print(\"ori:\", i, ibytes)\n",
    "        moved = i+ move\n",
    "        print(\"mov:\", moved , moved.to_bytes(byte_length,'little', signed=True))"
   ]
  }
 ],
 "metadata": {
  "kernelspec": {
   "display_name": "Python 3",
   "language": "python",
   "name": "python3"
  },
  "language_info": {
   "codemirror_mode": {
    "name": "ipython",
    "version": 3
   },
   "file_extension": ".py",
   "mimetype": "text/x-python",
   "name": "python",
   "nbconvert_exporter": "python",
   "pygments_lexer": "ipython3",
   "version": "3.6.0"
  }
 },
 "nbformat": 4,
 "nbformat_minor": 2
}
