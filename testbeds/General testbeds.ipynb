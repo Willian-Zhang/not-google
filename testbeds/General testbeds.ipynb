{
 "cells": [
  {
   "cell_type": "markdown",
   "metadata": {},
   "source": [
    "# Counter"
   ]
  },
  {
   "cell_type": "code",
   "execution_count": 1,
   "metadata": {
    "collapsed": true
   },
   "outputs": [],
   "source": [
    "from collections import Counter"
   ]
  },
  {
   "cell_type": "code",
   "execution_count": 2,
   "metadata": {
    "collapsed": true
   },
   "outputs": [],
   "source": [
    "arr = [\"a\", \"a\",\"b\"]"
   ]
  },
  {
   "cell_type": "code",
   "execution_count": 3,
   "metadata": {
    "collapsed": false
   },
   "outputs": [
    {
     "data": {
      "text/plain": [
       "Counter({'a': 2, 'b': 1})"
      ]
     },
     "execution_count": 3,
     "metadata": {},
     "output_type": "execute_result"
    }
   ],
   "source": [
    "Counter(arr)"
   ]
  },
  {
   "cell_type": "code",
   "execution_count": 4,
   "metadata": {
    "collapsed": false
   },
   "outputs": [
    {
     "data": {
      "text/plain": [
       "[('a', 2), ('b', 1)]"
      ]
     },
     "execution_count": 4,
     "metadata": {},
     "output_type": "execute_result"
    }
   ],
   "source": [
    "[(k, v) for (k,v) in Counter(arr).items()]"
   ]
  },
  {
   "cell_type": "markdown",
   "metadata": {},
   "source": [
    "# Binary"
   ]
  },
  {
   "cell_type": "code",
   "execution_count": 5,
   "metadata": {
    "collapsed": false
   },
   "outputs": [
    {
     "data": {
      "text/plain": [
       "b'\\x9d\\x8b+r'"
      ]
     },
     "execution_count": 5,
     "metadata": {},
     "output_type": "execute_result"
    }
   ],
   "source": [
    "b = (1915456413).to_bytes(4,'little', signed=True)\n",
    "b"
   ]
  },
  {
   "cell_type": "code",
   "execution_count": 6,
   "metadata": {
    "collapsed": false
   },
   "outputs": [
    {
     "data": {
      "text/plain": [
       "1915456413"
      ]
     },
     "execution_count": 6,
     "metadata": {},
     "output_type": "execute_result"
    }
   ],
   "source": [
    "int.from_bytes(b,'little', signed=True)"
   ]
  },
  {
   "cell_type": "code",
   "execution_count": 7,
   "metadata": {
    "collapsed": false
   },
   "outputs": [
    {
     "ename": "UnicodeDecodeError",
     "evalue": "'ascii' codec can't decode byte 0x9d in position 0: ordinal not in range(128)",
     "output_type": "error",
     "traceback": [
      "\u001b[0;31m---------------------------------------------------------------------------\u001b[0m",
      "\u001b[0;31mUnicodeDecodeError\u001b[0m                        Traceback (most recent call last)",
      "\u001b[0;32m<ipython-input-7-81db6158a514>\u001b[0m in \u001b[0;36m<module>\u001b[0;34m()\u001b[0m\n\u001b[0;32m----> 1\u001b[0;31m \u001b[0mb\u001b[0m\u001b[0;34m.\u001b[0m\u001b[0mdecode\u001b[0m\u001b[0;34m(\u001b[0m\u001b[0mencoding\u001b[0m\u001b[0;34m=\u001b[0m\u001b[0;34m\"ascii\"\u001b[0m\u001b[0;34m)\u001b[0m\u001b[0;34m\u001b[0m\u001b[0m\n\u001b[0m",
      "\u001b[0;31mUnicodeDecodeError\u001b[0m: 'ascii' codec can't decode byte 0x9d in position 0: ordinal not in range(128)"
     ]
    }
   ],
   "source": [
    "b.decode(encoding=\"ascii\")"
   ]
  },
  {
   "cell_type": "code",
   "execution_count": null,
   "metadata": {
    "collapsed": false
   },
   "outputs": [],
   "source": [
    "n = b'\\n'"
   ]
  },
  {
   "cell_type": "code",
   "execution_count": null,
   "metadata": {
    "collapsed": false
   },
   "outputs": [],
   "source": [
    "t = b'\\t'"
   ]
  },
  {
   "cell_type": "code",
   "execution_count": null,
   "metadata": {
    "collapsed": false
   },
   "outputs": [],
   "source": [
    "int.from_bytes(n,'little', signed=True)"
   ]
  },
  {
   "cell_type": "code",
   "execution_count": null,
   "metadata": {
    "collapsed": false
   },
   "outputs": [],
   "source": [
    "int.from_bytes(t,'little', signed=True)"
   ]
  },
  {
   "cell_type": "code",
   "execution_count": null,
   "metadata": {
    "collapsed": false
   },
   "outputs": [],
   "source": [
    "for i in range(1,10000):\n",
    "    barr = i.to_bytes(4,'little', signed=True)\n",
    "    if len(barr.split(t)) > 1:\n",
    "        i & 9\n",
    "        print(i, barr)\n",
    "        "
   ]
  },
  {
   "cell_type": "code",
   "execution_count": null,
   "metadata": {
    "collapsed": false
   },
   "outputs": [],
   "source": [
    "b.split(b'\\n')"
   ]
  },
  {
   "cell_type": "code",
   "execution_count": null,
   "metadata": {
    "collapsed": false
   },
   "outputs": [],
   "source": [
    "byte_length = 4\n",
    "tbytes = b'\\t\\t\\t\\t'\n",
    "nbytes = b'\\n\\n\\n\\n'\n",
    "byte_orders = range(0,byte_length*8,8)\n",
    "for i in [9, 10 , 11,265, 266, 2313, 2559, 2560]:\n",
    "    ibytes = i.to_bytes(byte_length,'little', signed=True)\n",
    "    move = [1 if x^y == 0 or x^z == 0 else 0 for (x,y,z) in zip(ibytes,tbytes,nbytes) ]\n",
    "    move = sum([should_move<< move_power for (should_move, move_power) in zip(move, byte_orders)])\n",
    "    \n",
    "    print(\"ori:\", i, ibytes, result)\n",
    "    moved = i+ move\n",
    "    print(\"mov:\", moved , moved.to_bytes(byte_length,'little', signed=True))"
   ]
  },
  {
   "cell_type": "code",
   "execution_count": null,
   "metadata": {
    "collapsed": false
   },
   "outputs": [],
   "source": [
    "int.from_bytes(b'\\t\\t\\t\\t','little', signed=True) ^ int.from_bytes(b'\\t\\t\\t\\t','little', signed=True)"
   ]
  },
  {
   "cell_type": "code",
   "execution_count": null,
   "metadata": {
    "collapsed": false
   },
   "outputs": [],
   "source": [
    "byte_length = 4\n",
    "tbytes = b'\\t\\t\\t\\t'\n",
    "nbytes = b'\\n\\n\\n\\n'\n",
    "byte_orders = range(0,byte_length*8,8)\n",
    "for i in range(1,1000):\n",
    "    ibytes = i.to_bytes(byte_length,'little', signed=True)\n",
    "    move = [1 if x^y == 0 or x^z == 0 else 0 for (x,y,z) in zip(ibytes,tbytes,nbytes) ]\n",
    "    move = sum([should_move<< move_power for (should_move, move_power) in zip(move, byte_orders)])\n",
    "    \n",
    "    if move>0:\n",
    "        print(\"ori:\", i, ibytes)\n",
    "        moved = i+ move\n",
    "        print(\"mov:\", moved , moved.to_bytes(byte_length,'little', signed=True))"
   ]
  },
  {
   "cell_type": "code",
   "execution_count": null,
   "metadata": {
    "collapsed": false
   },
   "outputs": [],
   "source": [
    "b'\\n'*4"
   ]
  },
  {
   "cell_type": "code",
   "execution_count": null,
   "metadata": {
    "collapsed": false
   },
   "outputs": [],
   "source": [
    "\"{b}\".format(b=b'\\n'*4)"
   ]
  },
  {
   "cell_type": "code",
   "execution_count": 8,
   "metadata": {
    "collapsed": false
   },
   "outputs": [
    {
     "name": "stdout",
     "output_type": "stream",
     "text": [
      "ori: 9 b'\\t\\x00\\x00\\x00'\n",
      "mov: 10 b'\\n\\x00\\x00\\x00'\n",
      "ori: 10 b'\\n\\x00\\x00\\x00'\n",
      "mov: 11 b'\\x0b\\x00\\x00\\x00'\n",
      "ori: 265 b'\\t\\x01\\x00\\x00'\n",
      "mov: 266 b'\\n\\x01\\x00\\x00'\n",
      "ori: 266 b'\\n\\x01\\x00\\x00'\n",
      "mov: 267 b'\\x0b\\x01\\x00\\x00'\n",
      "ori: 521 b'\\t\\x02\\x00\\x00'\n",
      "mov: 522 b'\\n\\x02\\x00\\x00'\n",
      "ori: 522 b'\\n\\x02\\x00\\x00'\n",
      "mov: 523 b'\\x0b\\x02\\x00\\x00'\n",
      "ori: 777 b'\\t\\x03\\x00\\x00'\n",
      "mov: 778 b'\\n\\x03\\x00\\x00'\n",
      "ori: 778 b'\\n\\x03\\x00\\x00'\n",
      "mov: 779 b'\\x0b\\x03\\x00\\x00'\n"
     ]
    }
   ],
   "source": [
    "byte_length = 4\n",
    "tbyte = int.from_bytes(b'\\t','little',signed=True)\n",
    "nbyte = int.from_bytes(b'\\n','little',signed=True)\n",
    "byte_orders = range(0,byte_length*8,8)\n",
    "for i in range(1,1000):\n",
    "    ibytes = i.to_bytes(byte_length,'little', signed=True)\n",
    "    move = [1 if x^tbyte == 0 or x^nbyte == 0 else 0 for x in ibytes ]\n",
    "    move = sum([should_move<< move_power for (should_move, move_power) in zip(move, byte_orders)])\n",
    "    \n",
    "    if move>0:\n",
    "        print(\"ori:\", i, ibytes)\n",
    "        moved = i+ move\n",
    "        print(\"mov:\", moved , moved.to_bytes(byte_length,'little', signed=True))"
   ]
  },
  {
   "cell_type": "code",
   "execution_count": 9,
   "metadata": {
    "collapsed": false
   },
   "outputs": [
    {
     "data": {
      "text/plain": [
       "32"
      ]
     },
     "execution_count": 9,
     "metadata": {},
     "output_type": "execute_result"
    }
   ],
   "source": [
    "int.from_bytes(b' ','little',signed=True)"
   ]
  },
  {
   "cell_type": "code",
   "execution_count": null,
   "metadata": {
    "collapsed": true
   },
   "outputs": [],
   "source": []
  }
 ],
 "metadata": {
  "kernelspec": {
   "display_name": "Python 3",
   "language": "python",
   "name": "python3"
  },
  "language_info": {
   "codemirror_mode": {
    "name": "ipython",
    "version": 3
   },
   "file_extension": ".py",
   "mimetype": "text/x-python",
   "name": "python",
   "nbconvert_exporter": "python",
   "pygments_lexer": "ipython3",
   "version": "3.6.0"
  }
 },
 "nbformat": 4,
 "nbformat_minor": 2
}
